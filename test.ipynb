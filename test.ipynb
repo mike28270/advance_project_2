{
 "cells": [
  {
   "cell_type": "code",
   "execution_count": 1,
   "metadata": {},
   "outputs": [
    {
     "name": "stdout",
     "output_type": "stream",
     "text": [
      "Collecting Django\n",
      "\u001b[33m  WARNING: Retrying (Retry(total=4, connect=None, read=None, redirect=None, status=None)) after connection broken by 'NewConnectionError('<pip._vendor.urllib3.connection.HTTPSConnection object at 0x7f7905d1c1c0>: Failed to establish a new connection: [Errno 8] nodename nor servname provided, or not known')': /packages/2d/ac/9f013a51e6008ba94a282c15778a3ea51a0953f6711a77f9baa471fd1b1d/Django-4.1.5-py3-none-any.whl\u001b[0m\u001b[33m\n",
      "\u001b[0m  Downloading Django-4.1.5-py3-none-any.whl (8.1 MB)\n",
      "\u001b[2K     \u001b[90m━━━━━━━━━━━━━━━━━━━━━━━━━━━━━━━━━━━━━━━━\u001b[0m \u001b[32m8.1/8.1 MB\u001b[0m \u001b[31m1.1 MB/s\u001b[0m eta \u001b[36m0:00:00\u001b[0m00:01\u001b[0m00:01\u001b[0m0m\n",
      "\u001b[?25hCollecting backports.zoneinfo\n",
      "  Using cached backports.zoneinfo-0.2.1-cp38-cp38-macosx_10_14_x86_64.whl (35 kB)\n",
      "Collecting sqlparse>=0.2.2\n",
      "  Using cached sqlparse-0.4.3-py3-none-any.whl (42 kB)\n",
      "Collecting asgiref<4,>=3.5.2\n",
      "  Using cached asgiref-3.6.0-py3-none-any.whl (23 kB)\n",
      "Installing collected packages: sqlparse, backports.zoneinfo, asgiref, Django\n",
      "Successfully installed Django-4.1.5 asgiref-3.6.0 backports.zoneinfo-0.2.1 sqlparse-0.4.3\n"
     ]
    }
   ],
   "source": [
    "!pip install Django"
   ]
  },
  {
   "cell_type": "code",
   "execution_count": 2,
   "metadata": {},
   "outputs": [
    {
     "name": "stdout",
     "output_type": "stream",
     "text": [
      "4.1.5\n"
     ]
    }
   ],
   "source": [
    "import django\n",
    "\n",
    "print(django.get_version())"
   ]
  },
  {
   "cell_type": "code",
   "execution_count": 1,
   "metadata": {},
   "outputs": [
    {
     "name": "stdout",
     "output_type": "stream",
     "text": [
      "Collecting django_plotly_dash\n",
      "  Using cached django_plotly_dash-2.1.3-py3-none-any.whl (55 kB)\n",
      "Collecting channels>=2.0\n",
      "  Using cached channels-4.0.0-py3-none-any.whl (28 kB)\n",
      "Collecting Django<4.0.0,>=2.2\n",
      "  Using cached Django-3.2.16-py3-none-any.whl (7.9 MB)\n",
      "Collecting dpd-components\n",
      "  Using cached dpd_components-0.1.0.tar.gz (4.3 kB)\n",
      "  Preparing metadata (setup.py) ... \u001b[?25ldone\n",
      "\u001b[?25hCollecting plotly\n",
      "  Using cached plotly-5.11.0-py2.py3-none-any.whl (15.3 MB)\n",
      "Collecting dash>=2.0\n",
      "  Using cached dash-2.7.1-py3-none-any.whl (9.9 MB)\n",
      "Collecting dash-bootstrap-components\n",
      "  Downloading dash_bootstrap_components-1.3.0-py3-none-any.whl (220 kB)\n",
      "\u001b[2K     \u001b[90m━━━━━━━━━━━━━━━━━━━━━━━━━━━━━━━━━━━━━\u001b[0m \u001b[32m220.0/220.0 kB\u001b[0m \u001b[31m177.8 kB/s\u001b[0m eta \u001b[36m0:00:00\u001b[0ma \u001b[36m0:00:01\u001b[0m\n",
      "\u001b[?25hCollecting Flask>=1.0.2\n",
      "  Using cached Flask-2.2.2-py3-none-any.whl (101 kB)\n",
      "Requirement already satisfied: Werkzeug in /Users/kritkorns/opt/miniconda3/envs/ap2/lib/python3.8/site-packages (from django_plotly_dash) (2.2.2)\n",
      "Requirement already satisfied: asgiref<4,>=3.5.0 in /Users/kritkorns/opt/miniconda3/envs/ap2/lib/python3.8/site-packages (from channels>=2.0->django_plotly_dash) (3.6.0)\n",
      "Collecting dash-html-components==2.0.0\n",
      "  Using cached dash_html_components-2.0.0-py3-none-any.whl (4.1 kB)\n",
      "Collecting dash-table==5.0.0\n",
      "  Using cached dash_table-5.0.0-py3-none-any.whl (3.9 kB)\n",
      "Collecting dash-core-components==2.0.0\n",
      "  Using cached dash_core_components-2.0.0-py3-none-any.whl (3.8 kB)\n",
      "Requirement already satisfied: sqlparse>=0.2.2 in /Users/kritkorns/opt/miniconda3/envs/ap2/lib/python3.8/site-packages (from Django<4.0.0,>=2.2->django_plotly_dash) (0.4.3)\n",
      "Requirement already satisfied: pytz in /Users/kritkorns/opt/miniconda3/envs/ap2/lib/python3.8/site-packages (from Django<4.0.0,>=2.2->django_plotly_dash) (2022.1)\n",
      "Collecting click>=8.0\n",
      "  Using cached click-8.1.3-py3-none-any.whl (96 kB)\n",
      "Requirement already satisfied: importlib-metadata>=3.6.0 in /Users/kritkorns/opt/miniconda3/envs/ap2/lib/python3.8/site-packages (from Flask>=1.0.2->django_plotly_dash) (4.11.3)\n",
      "Requirement already satisfied: Jinja2>=3.0 in /Users/kritkorns/opt/miniconda3/envs/ap2/lib/python3.8/site-packages (from Flask>=1.0.2->django_plotly_dash) (3.1.2)\n",
      "Collecting itsdangerous>=2.0\n",
      "  Using cached itsdangerous-2.1.2-py3-none-any.whl (15 kB)\n",
      "Collecting tenacity>=6.2.0\n",
      "  Using cached tenacity-8.1.0-py3-none-any.whl (23 kB)\n",
      "Requirement already satisfied: MarkupSafe>=2.1.1 in /Users/kritkorns/opt/miniconda3/envs/ap2/lib/python3.8/site-packages (from Werkzeug->django_plotly_dash) (2.1.1)\n",
      "Requirement already satisfied: zipp>=0.5 in /Users/kritkorns/opt/miniconda3/envs/ap2/lib/python3.8/site-packages (from importlib-metadata>=3.6.0->Flask>=1.0.2->django_plotly_dash) (3.8.0)\n",
      "Building wheels for collected packages: dpd-components\n",
      "  Building wheel for dpd-components (setup.py) ... \u001b[?25ldone\n",
      "\u001b[?25h  Created wheel for dpd-components: filename=dpd_components-0.1.0-py3-none-any.whl size=4535 sha256=43ea7fcd6b180006ddb3f802ad9fd929c1ca012471e2a0f3bdf07492c43a6a06\n",
      "  Stored in directory: /Users/kritkorns/Library/Caches/pip/wheels/07/a3/74/51b984d053f5e36de2d3bdfeb5dbadec7896d0af2dd7f4446e\n",
      "Successfully built dpd-components\n",
      "Installing collected packages: dpd-components, dash-table, dash-html-components, dash-core-components, tenacity, itsdangerous, Django, click, plotly, Flask, channels, dash, dash-bootstrap-components, django_plotly_dash\n",
      "  Attempting uninstall: Django\n",
      "    Found existing installation: Django 4.1.5\n",
      "    Uninstalling Django-4.1.5:\n",
      "      Successfully uninstalled Django-4.1.5\n",
      "Successfully installed Django-3.2.16 Flask-2.2.2 channels-4.0.0 click-8.1.3 dash-2.7.1 dash-bootstrap-components-1.3.0 dash-core-components-2.0.0 dash-html-components-2.0.0 dash-table-5.0.0 django_plotly_dash-2.1.3 dpd-components-0.1.0 itsdangerous-2.1.2 plotly-5.11.0 tenacity-8.1.0\n"
     ]
    }
   ],
   "source": [
    "!pip install django_plotly_dash"
   ]
  },
  {
   "cell_type": "code",
   "execution_count": 2,
   "metadata": {},
   "outputs": [
    {
     "name": "stdout",
     "output_type": "stream",
     "text": [
      "Collecting dpd_static_support\n",
      "  Using cached dpd_static_support-0.0.5-py3-none-any.whl (509 kB)\n",
      "Installing collected packages: dpd_static_support\n",
      "Successfully installed dpd_static_support-0.0.5\n"
     ]
    }
   ],
   "source": [
    "!pip install dpd_static_support"
   ]
  },
  {
   "cell_type": "code",
   "execution_count": 3,
   "metadata": {},
   "outputs": [
    {
     "name": "stdout",
     "output_type": "stream",
     "text": [
      "Collecting channels_redis\n",
      "  Using cached channels_redis-4.0.0-py3-none-any.whl (18 kB)\n",
      "Collecting redis>=4.2.0\n",
      "  Downloading redis-4.4.1-py3-none-any.whl (237 kB)\n",
      "\u001b[2K     \u001b[90m━━━━━━━━━━━━━━━━━━━━━━━━━━━━━━━━━━━━━\u001b[0m \u001b[32m237.6/237.6 kB\u001b[0m \u001b[31m251.9 kB/s\u001b[0m eta \u001b[36m0:00:00\u001b[0ma \u001b[36m0:00:01\u001b[0m\n",
      "\u001b[?25hRequirement already satisfied: channels in /Users/kritkorns/opt/miniconda3/envs/ap2/lib/python3.8/site-packages (from channels_redis) (4.0.0)\n",
      "Collecting msgpack~=1.0\n",
      "  Using cached msgpack-1.0.4-cp38-cp38-macosx_10_9_x86_64.whl (73 kB)\n",
      "Requirement already satisfied: asgiref<4,>=3.2.10 in /Users/kritkorns/opt/miniconda3/envs/ap2/lib/python3.8/site-packages (from channels_redis) (3.6.0)\n",
      "Collecting async-timeout>=4.0.2\n",
      "  Using cached async_timeout-4.0.2-py3-none-any.whl (5.8 kB)\n",
      "Requirement already satisfied: Django>=3.2 in /Users/kritkorns/opt/miniconda3/envs/ap2/lib/python3.8/site-packages (from channels->channels_redis) (3.2.16)\n",
      "Requirement already satisfied: pytz in /Users/kritkorns/opt/miniconda3/envs/ap2/lib/python3.8/site-packages (from Django>=3.2->channels->channels_redis) (2022.1)\n",
      "Requirement already satisfied: sqlparse>=0.2.2 in /Users/kritkorns/opt/miniconda3/envs/ap2/lib/python3.8/site-packages (from Django>=3.2->channels->channels_redis) (0.4.3)\n",
      "Installing collected packages: msgpack, async-timeout, redis, channels_redis\n",
      "Successfully installed async-timeout-4.0.2 channels_redis-4.0.0 msgpack-1.0.4 redis-4.4.1\n"
     ]
    }
   ],
   "source": [
    "!pip install channels_redis"
   ]
  },
  {
   "cell_type": "code",
   "execution_count": 4,
   "metadata": {},
   "outputs": [
    {
     "name": "stdout",
     "output_type": "stream",
     "text": [
      "Collecting dash_renderer\n",
      "  Using cached dash_renderer-1.9.1.tar.gz (1.0 MB)\n",
      "  Preparing metadata (setup.py) ... \u001b[?25ldone\n",
      "\u001b[?25hBuilding wheels for collected packages: dash_renderer\n",
      "  Building wheel for dash_renderer (setup.py) ... \u001b[?25ldone\n",
      "\u001b[?25h  Created wheel for dash_renderer: filename=dash_renderer-1.9.1-py3-none-any.whl size=1014850 sha256=bdcf170175bc216a21dc84b80c9f067e8c55db7e8b25841b99f573453f337e25\n",
      "  Stored in directory: /Users/kritkorns/Library/Caches/pip/wheels/ac/7e/fd/807844722d79d8babcd27b16e5f7ecc7b476c45ca607c11729\n",
      "Successfully built dash_renderer\n",
      "Installing collected packages: dash_renderer\n",
      "Successfully installed dash_renderer-1.9.1\n"
     ]
    }
   ],
   "source": [
    "!pip install dash_renderer"
   ]
  }
 ],
 "metadata": {
  "kernelspec": {
   "display_name": "ap2",
   "language": "python",
   "name": "python3"
  },
  "language_info": {
   "codemirror_mode": {
    "name": "ipython",
    "version": 3
   },
   "file_extension": ".py",
   "mimetype": "text/x-python",
   "name": "python",
   "nbconvert_exporter": "python",
   "pygments_lexer": "ipython3",
   "version": "3.8.15"
  },
  "orig_nbformat": 4,
  "vscode": {
   "interpreter": {
    "hash": "230cfac84ec3a52c1eeb21fb0465ce1e4d062ac31fda4e3acb747bf6ed9e0dff"
   }
  }
 },
 "nbformat": 4,
 "nbformat_minor": 2
}
