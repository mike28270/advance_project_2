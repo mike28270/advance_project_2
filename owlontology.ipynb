{
 "cells": [
  {
   "cell_type": "markdown",
   "id": "e898112e",
   "metadata": {},
   "source": [
    "# We need to map the objects of the image into existing ontology, steps for mapping:\n",
    "\n",
    "1.finding the suitable ontology for our objects (here, we select the mason ontology)\n",
    "2.extract the list of ontology classes using owlready2\n",
    "3.finding the related classes for our objects using similarity measures (sbert similarity: https://www.sbert.net)\n",
    "4.If there are no matches classes for our object, we will add the class to our ontology using owlready2\n",
    "5.populate the objects inside of related classes using owlready2\n",
    "6.create the relations between the objects of one image\n",
    "7.import the final ontology into Neo4j (I provide you the code)"
   ]
  },
  {
   "cell_type": "code",
   "execution_count": 2,
   "id": "33a5d82e",
   "metadata": {},
   "outputs": [],
   "source": [
    "# !pip install owlready2\n",
    "# !pip install pyyaml"
   ]
  },
  {
   "cell_type": "markdown",
   "id": "11f37736",
   "metadata": {},
   "source": [
    "Load an ontology from a local repository, or from Internet:"
   ]
  },
  {
   "cell_type": "code",
   "execution_count": 15,
   "id": "0d7522b0",
   "metadata": {},
   "outputs": [],
   "source": [
    "#pip install -U sentence-transformers"
   ]
  },
  {
   "cell_type": "markdown",
   "id": "e714e921",
   "metadata": {},
   "source": [
    "# 1.finding the suitable ontology for our objects (here, we select the mason ontology)"
   ]
  },
  {
   "cell_type": "code",
   "execution_count": 1,
   "id": "3389968f",
   "metadata": {},
   "outputs": [
    {
     "data": {
      "text/plain": [
       "get_ontology(\"http://www.owl-ontologies.com/mason.owl#\")"
      ]
     },
     "execution_count": 1,
     "metadata": {},
     "output_type": "execute_result"
    }
   ],
   "source": [
    "\n",
    "from owlready2 import *\n",
    "onto_path.append(\"\")\n",
    "onto = get_ontology(\"E://Jacobs 3rd sem//advproj2//main folder//mason.owl\")\n",
    "onto.load()"
   ]
  },
  {
   "cell_type": "code",
   "execution_count": 10,
   "id": "6abc0e2e",
   "metadata": {},
   "outputs": [
    {
     "data": {
      "text/plain": [
       "get_ontology(\"http://www.owl-ontologies.com/mason.owl#\")"
      ]
     },
     "execution_count": 10,
     "metadata": {},
     "output_type": "execute_result"
    }
   ],
   "source": [
    "from owlready2 import get_ontology, onto_path\n",
    "\n",
    "onto_path.append(\"morenap/onto_repo\")\n",
    "onto = get_ontology(\"mason.owl\")\n",
    "onto.load()"
   ]
  },
  {
   "cell_type": "markdown",
   "id": "e0b8d3ed",
   "metadata": {},
   "source": [
    "# 2.extract the list of ontology classes using owlready2"
   ]
  },
  {
   "cell_type": "code",
   "execution_count": 2,
   "id": "c828fd0f",
   "metadata": {},
   "outputs": [
    {
     "data": {
      "text/plain": [
       "[mason.Manufacturing_operation,\n",
       " mason.Finished_part,\n",
       " mason.Set,\n",
       " mason.System,\n",
       " mason.Raw_material,\n",
       " mason.Geometric_entity_for_manufacturing,\n",
       " mason.Logistic_operation,\n",
       " mason.Machine_resource,\n",
       " mason.Tool,\n",
       " mason.Operation,\n",
       " mason.Human_resource,\n",
       " mason.Cost_entity,\n",
       " mason.Assembly_entity,\n",
       " mason.Symmetry,\n",
       " mason.Material_resource,\n",
       " mason.Geographic_resource,\n",
       " mason.Machine_tool,\n",
       " mason.Semi-finished_part,\n",
       " mason.Topology,\n",
       " mason.Geometric_flaw_between_entities,\n",
       " mason.Shape,\n",
       " mason.Blank,\n",
       " mason.Entity_geometric_flaw,\n",
       " mason.Resource,\n",
       " mason.Geometric_flaw_3rd_order,\n",
       " mason.Geometric_flaw_4th_order,\n",
       " mason.Administrative_entity,\n",
       " mason.Geometric_flaw_2nd_order,\n",
       " mason.Technological_entity,\n",
       " mason.Part,\n",
       " mason.Manufacturing_concept,\n",
       " mason.Entity,\n",
       " mason.Geometric_entity,\n",
       " mason.Geometric_flaw,\n",
       " mason.Electropolishing,\n",
       " mason.Anodic_dissolving,\n",
       " mason.Oxidation,\n",
       " mason.Physicochemical_Loss_of_volume,\n",
       " mason.Loss_of_volume,\n",
       " mason.Addition,\n",
       " mason.Mechanical_Small_variations_of_volume,\n",
       " mason.Small_variations_of_volume,\n",
       " mason.Water_trimming_machine,\n",
       " mason.Shearing_machine-tool,\n",
       " mason.Counterbore,\n",
       " mason.Revolution_entity,\n",
       " mason.Founding_machine,\n",
       " mason.Control,\n",
       " mason.Tap,\n",
       " mason.Forming_machine,\n",
       " mason.Punching,\n",
       " mason.Cutting,\n",
       " mason.Abrasion,\n",
       " mason.Evaporative_or_Projective,\n",
       " mason.Oxidation_Projection,\n",
       " mason.Shearing_Operation,\n",
       " mason.Fusion_Loss_of_volume,\n",
       " mason.Mechanical_Loss_of_volume,\n",
       " mason.Thermal_Loss_of_volume,\n",
       " mason.Polishing,\n",
       " mason.Complex_shape_of_revolution_with_draught,\n",
       " mason.Complex_shape_of_revolution,\n",
       " mason.Electrolytic_ripping,\n",
       " mason.Maintenance,\n",
       " mason.Rolling_mill,\n",
       " mason.Slot,\n",
       " mason.Linear_entity,\n",
       " mason.Assembly,\n",
       " mason.Machining_centre_5_axis,\n",
       " mason.Circular_slot,\n",
       " mason.Forging,\n",
       " mason.Brutal_hot_forming,\n",
       " mason.Slow_cold_forming,\n",
       " mason.Forming,\n",
       " mason.Mechanical_No_loss_of_volume,\n",
       " mason.No_loss_of_volume,\n",
       " mason.Forging_die_and_punch,\n",
       " mason.Homogenizing,\n",
       " mason.Heat_treatment,\n",
       " mason.Thermal_Small_variations_of_volume,\n",
       " mason.Cold_rolling,\n",
       " mason.Cold_drawing,\n",
       " mason.Warm_pressing,\n",
       " mason.Welding_aluminium,\n",
       " mason.Aluminium_alloy,\n",
       " mason.Slow_hot_forming,\n",
       " mason.With_gravity,\n",
       " mason.Centrifugation,\n",
       " mason.Under_pressure,\n",
       " mason.Alloy,\n",
       " mason.Fusion_No_loss_of_volume,\n",
       " mason.Thermal_No_loss_of_volume,\n",
       " mason.Circular_shoulder,\n",
       " mason.Copper_alloy,\n",
       " mason.Glass,\n",
       " mason.Physicochemical_Small_variations_of_volume,\n",
       " mason.Drilling,\n",
       " mason.Warm_drawing,\n",
       " mason.Plan,\n",
       " mason.Folding_machine,\n",
       " mason.Stock,\n",
       " mason.Building_zone,\n",
       " mason.Shop_floor,\n",
       " mason.Hole,\n",
       " mason.T_slot,\n",
       " mason.Workshop,\n",
       " mason.Fluoturning,\n",
       " mason.Annealing,\n",
       " mason.Electrolysing,\n",
       " mason.Machine_preparing,\n",
       " mason.Launching_operation,\n",
       " mason.Thermoplastic,\n",
       " mason.Plastic,\n",
       " mason.Hydrostatic_press,\n",
       " mason.Wedge_press,\n",
       " mason.Folding,\n",
       " mason.Cementation,\n",
       " mason.Diffusion,\n",
       " mason.Preparation_operator,\n",
       " mason.Cone,\n",
       " mason.Water_jet,\n",
       " mason.Turning,\n",
       " mason.Stainless_steel,\n",
       " mason.Steel,\n",
       " mason.Oxygen_cutting,\n",
       " mason.Nibbling,\n",
       " mason.Nickel-plating,\n",
       " mason.Shot_blasting,\n",
       " mason.Blasting,\n",
       " mason.Sand_blasting,\n",
       " mason.Zinc_alloy,\n",
       " mason.Programming,\n",
       " mason.Human_operation,\n",
       " mason.Titan_alloy,\n",
       " mason.Operator,\n",
       " mason.Hold_on,\n",
       " mason.Painting_station,\n",
       " mason.Heat_or_surface_treatment_machine,\n",
       " mason.Milling_machine_4_axis,\n",
       " mason.Turning_tool,\n",
       " mason.Lapping,\n",
       " mason.Drill,\n",
       " mason.A-Uy,\n",
       " mason.Casted_aluminium,\n",
       " mason.Pocket_complex_bottom,\n",
       " mason.Pocket,\n",
       " mason.Complex_shape_of_revolution_with_counterdraught,\n",
       " mason.Pocket_flat_bottom_with_draught,\n",
       " mason.Pocket_flat_bottom,\n",
       " mason.Cold_pressing,\n",
       " mason.Extrusion,\n",
       " mason.Threading,\n",
       " mason.Founding_pattern_and_mould,\n",
       " mason.Aluminium,\n",
       " mason.Rotoforming,\n",
       " mason.Nitriding,\n",
       " mason.Covering,\n",
       " mason.Thermosetting,\n",
       " mason.Injection_machine,\n",
       " mason.Geometric_flaw_1st_order,\n",
       " mason.Grinding_machine,\n",
       " mason.Planing,\n",
       " mason.Electron_beam,\n",
       " mason.Electroplating_bath,\n",
       " mason.Nickel_alloy,\n",
       " mason.Boring,\n",
       " mason.Handling,\n",
       " mason.Machining_centre_4_axis,\n",
       " mason.Board_drop_hammer,\n",
       " mason.Shoulder,\n",
       " mason.Lathe,\n",
       " mason.Bending,\n",
       " mason.Hydroforming,\n",
       " mason.Programming_operator,\n",
       " mason.Ultrasonics,\n",
       " mason.Shot_blasting_machine,\n",
       " mason.Hardening,\n",
       " mason.Oven,\n",
       " mason.Scheduling,\n",
       " mason.Complex_shape_of_revolution_with_draught_and_counterdraught,\n",
       " mason.Site,\n",
       " mason.A-Sx,\n",
       " mason.Electroerosion,\n",
       " mason.Carbonitriding,\n",
       " mason.Pocket_flat_bottom_with_counterdraught,\n",
       " mason.Continous_cast,\n",
       " mason.Cam_press,\n",
       " mason.Shearing,\n",
       " mason.Pocket_flat_bottom_without_draught,\n",
       " mason.Punching_press,\n",
       " mason.Magnesium_alloy,\n",
       " mason.Building,\n",
       " mason.Paint,\n",
       " mason.Laser,\n",
       " mason.Alloy_steel,\n",
       " mason.Anodizing,\n",
       " mason.Milling,\n",
       " mason.Manual_moulding,\n",
       " mason.Handling_operator,\n",
       " mason.Chill_casting,\n",
       " mason.Warm_rolling,\n",
       " mason.Broaching,\n",
       " mason.Chromium_plating,\n",
       " mason.V_slot,\n",
       " mason.Moulding_machine,\n",
       " mason.Sand_casting,\n",
       " mason.Plasma_trimming_machine,\n",
       " mason.Varnish,\n",
       " mason.Temper_drawing,\n",
       " mason.Grinding,\n",
       " mason.Plasma,\n",
       " mason.Milling_machine,\n",
       " mason.Cylindre,\n",
       " mason.Procedures_expert,\n",
       " mason.Chamfer,\n",
       " mason.Screw_press,\n",
       " mason.Wood,\n",
       " mason.Phosphatization,\n",
       " mason.Engraving,\n",
       " mason.Injection_casting,\n",
       " mason.Handling_machine,\n",
       " mason.Knuckel_press,\n",
       " mason.Images]"
      ]
     },
     "execution_count": 2,
     "metadata": {},
     "output_type": "execute_result"
    }
   ],
   "source": [
    "\n",
    "list(onto.classes())"
   ]
  },
  {
   "cell_type": "markdown",
   "id": "0f2e1f8e",
   "metadata": {},
   "source": [
    "# 3.finding the related classes for our objects using similarity measures (sbert similarity: https://www.sbert.net)"
   ]
  },
  {
   "cell_type": "code",
   "execution_count": 3,
   "id": "c5d7b140",
   "metadata": {},
   "outputs": [],
   "source": [
    "import yaml\n",
    "from yaml.loader import SafeLoader"
   ]
  },
  {
   "cell_type": "code",
   "execution_count": 4,
   "id": "a67ee8d1",
   "metadata": {},
   "outputs": [
    {
     "name": "stdout",
     "output_type": "stream",
     "text": [
      "{'names': ['3DPrinter_Body', '3DPrinter_Filament', 'BandSaw_Controls', 'BandSaw_Saw', 'BandSaw_WorkTable', 'Conveyors_BaseRoller', 'Conveyors_Bed', 'Conveyors_SlantRoller', 'Drillpress_Controls', 'Drillpress_Drill', 'Drillpress_HandWheel', 'Drillpress_MachineStand', 'Drillpress_WorkTable', 'Lathe_Bed', 'Lathe_ChipPan', 'Lathe_Controls', 'Lathe_CrossSlide', 'MillingMachine_ChipCollectorPlate', 'MillingMachine_Controls', 'MillingMachine_HandWheel', 'MillingMachine_MachineStand', 'MillingMachine_WorkTable', 'Robot_BaseArm', 'Robot_Head', 'Robot_UpperArm'], 'nc': 25, 'roboflow': {'license': 'CC BY 4.0', 'project': 'machine_detection', 'url': 'https://universe.roboflow.com/projecttest/machine_detection/dataset/1', 'version': 1, 'workspace': 'projecttest'}, 'path': '../dataset/machine_detection-4', 'test': '../test/', 'train': '../train/', 'val': '../valid/'}\n"
     ]
    }
   ],
   "source": [
    "with open(\"E://Jacobs 3rd sem//advproj2//main folder//data.yaml\") as f:\n",
    "    data=yaml.load(f, Loader=SafeLoader)\n",
    "    print(data)"
   ]
  },
  {
   "cell_type": "code",
   "execution_count": null,
   "id": "502f5c85",
   "metadata": {},
   "outputs": [],
   "source": []
  },
  {
   "cell_type": "code",
   "execution_count": 5,
   "id": "cc45baed",
   "metadata": {},
   "outputs": [
    {
     "data": {
      "text/plain": [
       "['3DPrinter_Body',\n",
       " '3DPrinter_Filament',\n",
       " 'BandSaw_Controls',\n",
       " 'BandSaw_Saw',\n",
       " 'BandSaw_WorkTable',\n",
       " 'Conveyors_BaseRoller',\n",
       " 'Conveyors_Bed',\n",
       " 'Conveyors_SlantRoller',\n",
       " 'Drillpress_Controls',\n",
       " 'Drillpress_Drill',\n",
       " 'Drillpress_HandWheel',\n",
       " 'Drillpress_MachineStand',\n",
       " 'Drillpress_WorkTable',\n",
       " 'Lathe_Bed',\n",
       " 'Lathe_ChipPan',\n",
       " 'Lathe_Controls',\n",
       " 'Lathe_CrossSlide',\n",
       " 'MillingMachine_ChipCollectorPlate',\n",
       " 'MillingMachine_Controls',\n",
       " 'MillingMachine_HandWheel',\n",
       " 'MillingMachine_MachineStand',\n",
       " 'MillingMachine_WorkTable',\n",
       " 'Robot_BaseArm',\n",
       " 'Robot_Head',\n",
       " 'Robot_UpperArm']"
      ]
     },
     "execution_count": 5,
     "metadata": {},
     "output_type": "execute_result"
    }
   ],
   "source": [
    "#to get the list of names to extract classes/instances from it\n",
    "obj_list=data.get('names')\n",
    "obj_list"
   ]
  },
  {
   "cell_type": "code",
   "execution_count": 6,
   "id": "91f468cf",
   "metadata": {},
   "outputs": [
    {
     "data": {
      "text/plain": [
       "['MillingMachine',\n",
       " 'Conveyors',\n",
       " 'Lathe',\n",
       " '_3DPrinter',\n",
       " 'Robot',\n",
       " 'BandSaw',\n",
       " 'Drillpress']"
      ]
     },
     "execution_count": 6,
     "metadata": {},
     "output_type": "execute_result"
    }
   ],
   "source": [
    "#to get only classes, split each names and get the first word before '_'. Used 'set' to get the distinct vales of classes\n",
    "cls_lst = set([x.split('_')[0] for x in obj_list])\n",
    "class_list=[]\n",
    "#to handle class names starting with a digit. eg(3DPrinter), '_' will be added to it.\n",
    "for s in cls_lst: class_list.append('_'+s) if s[0].isdigit() else class_list.append(s)\n",
    "class_list"
   ]
  },
  {
   "cell_type": "code",
   "execution_count": 2,
   "id": "456c7e69",
   "metadata": {},
   "outputs": [
    {
     "data": {
      "text/plain": [
       "[mason.Electropolishing,\n",
       " mason.Anodic_dissolving,\n",
       " mason.Addition,\n",
       " mason.Mechanical_Small_variations_of_volume,\n",
       " mason.Water_trimming_machine,\n",
       " mason.Shearing_machine-tool,\n",
       " mason.Counterbore,\n",
       " mason.Revolution_entity,\n",
       " mason.Founding_machine,\n",
       " mason.Machine-tool,\n",
       " mason.Control,\n",
       " mason.Manufacturing_operation,\n",
       " mason.Tap,\n",
       " mason.Forming_machine,\n",
       " mason.Punching,\n",
       " mason.Cutting,\n",
       " mason.Polishing,\n",
       " mason.Abrasion,\n",
       " mason.Complex_shape_of_revolution_with_draught,\n",
       " mason.Complex_shape_of_revolution,\n",
       " mason.Electrolytic_ripping,\n",
       " mason.Maintenance,\n",
       " mason.Logistic_operation,\n",
       " mason.Rolling_mill,\n",
       " mason.Slot,\n",
       " mason.Linear_entity,\n",
       " mason.Assembly,\n",
       " mason.Machining_centre_5_axis,\n",
       " mason.Circular_slot,\n",
       " mason.Oxidation,\n",
       " mason.Physicochemical_Loss_of_volume,\n",
       " mason.Operation,\n",
       " mason.Manufacturing_concept,\n",
       " mason.Forging,\n",
       " mason.Brutal_hot_forming,\n",
       " mason.Forging_die_and_punch,\n",
       " mason.Tool,\n",
       " mason.Administrative_entity,\n",
       " mason.Entity,\n",
       " mason.Set,\n",
       " mason.Assembly_entity,\n",
       " mason.Cost_entity,\n",
       " mason.Geometric_flaw_between_entities,\n",
       " mason.Geometric_flaw,\n",
       " mason.Homogenizing,\n",
       " mason.Heat_treatment,\n",
       " mason.Cold_rolling,\n",
       " mason.Slow_cold_forming,\n",
       " mason.Cold_drawing,\n",
       " mason.Warm_pressing,\n",
       " mason.Welding_aluminium,\n",
       " mason.Aluminium_alloy,\n",
       " mason.Geographic_resource,\n",
       " mason.Resource,\n",
       " mason.Evaporative_or_Projective,\n",
       " mason.Oxidation_Projection,\n",
       " mason.Forming,\n",
       " mason.Under_pressure,\n",
       " mason.Fusion_No_loss_of_volume,\n",
       " mason.Circular_shoulder,\n",
       " mason.Copper_alloy,\n",
       " mason.Alloy,\n",
       " mason.Glass,\n",
       " mason.Raw_material,\n",
       " mason.Physicochemical_Small_variations_of_volume,\n",
       " mason.Small_variations_of_volume,\n",
       " mason.Shearing_Operation,\n",
       " mason.Mechanical_Loss_of_volume,\n",
       " mason.Drilling,\n",
       " mason.Warm_drawing,\n",
       " mason.Slow_hot_forming,\n",
       " mason.Topology,\n",
       " mason.Geometric_entity,\n",
       " mason.Plan,\n",
       " mason.Geometric_entity_for_manufacturing,\n",
       " mason.Technological_entity,\n",
       " mason.Folding_machine,\n",
       " mason.Stock,\n",
       " mason.Building_zone,\n",
       " mason.Shop_floor,\n",
       " mason.Hole,\n",
       " mason.Loss_of_volume,\n",
       " mason.T_slot,\n",
       " mason.Workshop,\n",
       " mason.Fluoturning,\n",
       " mason.Annealing,\n",
       " mason.Electrolysing,\n",
       " mason.Mechanical_No_loss_of_volume,\n",
       " mason.No_loss_of_volume,\n",
       " mason.Thermal_Loss_of_volume,\n",
       " mason.With_gravity,\n",
       " mason.Machine_preparing,\n",
       " mason.Launching_operation,\n",
       " mason.Thermal_Small_variations_of_volume,\n",
       " mason.Thermoplastic,\n",
       " mason.Plastic,\n",
       " mason.Hydrostatic_press,\n",
       " mason.Wedge_press,\n",
       " mason.Folding,\n",
       " mason.Cementation,\n",
       " mason.Diffusion,\n",
       " mason.Preparation_operator,\n",
       " mason.Human_resource,\n",
       " mason.Cone,\n",
       " mason.Water_jet,\n",
       " mason.Turning,\n",
       " mason.Stainless_steel,\n",
       " mason.Steel,\n",
       " mason.Oxygen_cutting,\n",
       " mason.Nibbling,\n",
       " mason.Thermal_No_loss_of_volume,\n",
       " mason.Nickel-plating,\n",
       " mason.Shot_blasting,\n",
       " mason.Blasting,\n",
       " mason.Sand_blasting,\n",
       " mason.Zinc_alloy,\n",
       " mason.Programming,\n",
       " mason.Human_operation,\n",
       " mason.Titan_alloy,\n",
       " mason.Operator,\n",
       " mason.Material_resource,\n",
       " mason.Hold_on,\n",
       " mason.Machine_resource,\n",
       " mason.Painting_station,\n",
       " mason.Heat_or_surface_treatment_machine,\n",
       " mason.Milling_machine_4_axis,\n",
       " mason.Entity_geometric_flaw,\n",
       " mason.Turning_tool,\n",
       " mason.Lapping,\n",
       " mason.Drill,\n",
       " mason.A-Uy,\n",
       " mason.Casted_aluminium,\n",
       " mason.Pocket_complex_bottom,\n",
       " mason.Pocket,\n",
       " mason.Complex_shape_of_revolution_with_counterdraught,\n",
       " mason.Shape,\n",
       " mason.Pocket_flat_bottom_with_draught,\n",
       " mason.Pocket_flat_bottom,\n",
       " mason.Symmetry,\n",
       " mason.Cold_pressing,\n",
       " mason.Extrusion,\n",
       " mason.Threading,\n",
       " mason.Founding_pattern_and_mould,\n",
       " mason.Aluminium,\n",
       " mason.Rotoforming,\n",
       " mason.Centrifugation,\n",
       " mason.Nitriding,\n",
       " mason.Covering,\n",
       " mason.Thermosetting,\n",
       " mason.Injection_machine,\n",
       " mason.Geometric_flaw_1st_order,\n",
       " mason.Grinding_machine,\n",
       " mason.Planing,\n",
       " mason.Fusion_Loss_of_volume,\n",
       " mason.Electron_beam,\n",
       " mason.Electroplating_bath,\n",
       " mason.Nickel_alloy,\n",
       " mason.Boring,\n",
       " mason.Handling,\n",
       " mason.Machining_centre_4_axis,\n",
       " mason.Part,\n",
       " mason.Board_drop_hammer,\n",
       " mason.Geometric_flaw_3rd_order,\n",
       " mason.Geometric_flaw_4th_order,\n",
       " mason.Finished_part,\n",
       " mason.Shoulder,\n",
       " mason.Lathe,\n",
       " mason.Bending,\n",
       " mason.Hydroforming,\n",
       " mason.Programming_operator,\n",
       " mason.Ultrasonics,\n",
       " mason.Shot_blasting_machine,\n",
       " mason.Hardening,\n",
       " mason.Oven,\n",
       " mason.Scheduling,\n",
       " mason.Complex_shape_of_revolution_with_draught_and_counterdraught,\n",
       " mason.Site,\n",
       " mason.A-Sx,\n",
       " mason.Electroerosion,\n",
       " mason.Carbonitriding,\n",
       " mason.Pocket_flat_bottom_with_counterdraught,\n",
       " mason.Continous_cast,\n",
       " mason.Cam_press,\n",
       " mason.Shearing,\n",
       " mason.Pocket_flat_bottom_without_draught,\n",
       " mason.Punching_press,\n",
       " mason.Magnesium_alloy,\n",
       " mason.Building,\n",
       " mason.Paint,\n",
       " mason.Laser,\n",
       " mason.Alloy_steel,\n",
       " mason.Blank,\n",
       " mason.Anodizing,\n",
       " mason.Milling,\n",
       " mason.Manual_moulding,\n",
       " mason.Handling_operator,\n",
       " mason.Chill_casting,\n",
       " mason.Warm_rolling,\n",
       " mason.Broaching,\n",
       " mason.Chromium_plating,\n",
       " mason.V_slot,\n",
       " mason.Moulding_machine,\n",
       " mason.Sand_casting,\n",
       " mason.Plasma_trimming_machine,\n",
       " mason.Varnish,\n",
       " mason.Temper_drawing,\n",
       " mason.Grinding,\n",
       " mason.Plasma,\n",
       " mason.Milling_machine,\n",
       " mason.Geometric_flaw_2nd_order,\n",
       " mason.Cylindre,\n",
       " mason.Procedures_expert,\n",
       " mason.Chamfer,\n",
       " mason.Semi-finished_part,\n",
       " mason.System,\n",
       " mason.Screw_press,\n",
       " mason.Wood,\n",
       " mason.Phosphatization,\n",
       " mason.Engraving,\n",
       " mason.Injection_casting,\n",
       " mason.Handling_machine,\n",
       " mason.Knuckel_press]"
      ]
     },
     "execution_count": 2,
     "metadata": {},
     "output_type": "execute_result"
    }
   ],
   "source": [
    "from ontology.utils.ontology import Ontology\n",
    "\n",
    "temp = Ontology()\n",
    "onto = temp.set_onto(path=\"morenap/onto_repo\", onto_name=\"mason.owl\")\n",
    "temp.get_classnames()"
   ]
  },
  {
   "cell_type": "code",
   "execution_count": 6,
   "id": "094e6d2c",
   "metadata": {},
   "outputs": [],
   "source": [
    "#Create Image class if not present already- onetime thing\n",
    "\n",
    "class Images(onto.Machine_resource):\n",
    "    namespace = onto"
   ]
  },
  {
   "cell_type": "code",
   "execution_count": 5,
   "id": "5bb64be9",
   "metadata": {},
   "outputs": [],
   "source": [
    "# !pip install sentence_transformers"
   ]
  },
  {
   "cell_type": "code",
   "execution_count": 1,
   "id": "f0c1a745",
   "metadata": {},
   "outputs": [
    {
     "name": "stderr",
     "output_type": "stream",
     "text": [
      "* Owlready2 * Warning: optimized Cython parser module 'owlready2_optimized' is not available, defaulting to slower Python implementation\n"
     ]
    },
    {
     "data": {
      "text/plain": [
       "{'Robot': {'mason.Machine-tool': 0.3474141061306,\n",
       "  'mason.Folding_machine': 0.3307335674762726,\n",
       "  'mason.Grinding_machine': 0.3095781207084656},\n",
       " 'Printer3D': {'mason.Plasma_trimming_machine': 0.27975884079933167,\n",
       "  'mason.Laser': 0.25432607531547546,\n",
       "  'mason.Machining_centre_5_axis': 0.24805979430675507},\n",
       " 'Conveyors': {'mason.Hydroforming': 0.32675573229789734,\n",
       "  'mason.Manufacturing_concept': 0.3115306794643402,\n",
       "  'mason.Manual_moulding': 0.3105659484863281},\n",
       " 'Lathe': {'mason.Lathe': 0.7013975381851196,\n",
       "  'mason.Extrusion': 0.4131752848625183,\n",
       "  'mason.Alloy': 0.4047287106513977},\n",
       " 'Drillpress': {'mason.Drilling': 0.5551064014434814,\n",
       "  'mason.Drill': 0.5074068307876587,\n",
       "  'mason.Machine-tool': 0.46587568521499634},\n",
       " 'MillingMachine': {'mason.Milling_machine': 0.7764980792999268,\n",
       "  'mason.Milling_machine_4_axis': 0.7418296933174133,\n",
       "  'mason.Milling': 0.7114167809486389},\n",
       " 'BandSaw': {'mason.Board_drop_hammer': 0.29878121614456177,\n",
       "  'mason.Welding_aluminium': 0.29369494318962097,\n",
       "  'mason.Shearing_machine-tool': 0.2744010090827942}}"
      ]
     },
     "execution_count": 1,
     "metadata": {},
     "output_type": "execute_result"
    }
   ],
   "source": [
    "from ontology.utils.ontology import Ontology, Labels\n",
    "\n",
    "labels_list = Labels().load_label_from_yaml(\"detection/dataset/data.yaml\")\n",
    "labels_list\n",
    "\n",
    "mason = Ontology(\"morenap/onto_repo\", \"mason.owl\")\n",
    "mason.get_onto\n",
    "mason.semetic_search(labels_list, save_path=\"results/detection\")\n"
   ]
  },
  {
   "cell_type": "code",
   "execution_count": 4,
   "id": "4c788580",
   "metadata": {},
   "outputs": [
    {
     "data": {
      "text/plain": [
       "'mason.Milling_machine'"
      ]
     },
     "execution_count": 4,
     "metadata": {},
     "output_type": "execute_result"
    }
   ],
   "source": [
    "mason.get_classnames()[]"
   ]
  },
  {
   "cell_type": "code",
   "execution_count": 19,
   "id": "435ec6f6",
   "metadata": {},
   "outputs": [
    {
     "name": "stdout",
     "output_type": "stream",
     "text": [
      "Drillpress\n",
      "\n",
      "\n",
      "======================\n",
      "\n",
      "\n",
      "Query: Drillpress\n",
      "\n",
      "Top 5 most similar sentences in corpus:\n",
      "mason.Drilling (Score: 0.5551)\n",
      "mason.Drill (Score: 0.5074)\n",
      "mason.Machine-tool (Score: 0.4659)\n",
      "Lathe\n",
      "\n",
      "\n",
      "======================\n",
      "\n",
      "\n",
      "Query: Lathe\n",
      "\n",
      "Top 5 most similar sentences in corpus:\n",
      "mason.Lathe (Score: 0.7014)\n",
      "mason.Extrusion (Score: 0.4132)\n",
      "mason.Alloy (Score: 0.4047)\n",
      "BandSaw\n",
      "\n",
      "\n",
      "======================\n",
      "\n",
      "\n",
      "Query: BandSaw\n",
      "\n",
      "Top 5 most similar sentences in corpus:\n",
      "mason.Board_drop_hammer (Score: 0.2988)\n",
      "mason.Welding_aluminium (Score: 0.2937)\n",
      "mason.Shearing_machine-tool (Score: 0.2744)\n",
      "MillingMachine\n",
      "\n",
      "\n",
      "======================\n",
      "\n",
      "\n",
      "Query: MillingMachine\n",
      "\n",
      "Top 5 most similar sentences in corpus:\n",
      "mason.Milling_machine (Score: 0.7765)\n",
      "mason.Milling_machine_4_axis (Score: 0.7418)\n",
      "mason.Milling (Score: 0.7114)\n",
      "Printer3D\n",
      "\n",
      "\n",
      "======================\n",
      "\n",
      "\n",
      "Query: Printer3D\n",
      "\n",
      "Top 5 most similar sentences in corpus:\n",
      "mason.Plasma_trimming_machine (Score: 0.2798)\n",
      "mason.Laser (Score: 0.2543)\n",
      "mason.Machining_centre_5_axis (Score: 0.2481)\n",
      "Conveyors\n",
      "\n",
      "\n",
      "======================\n",
      "\n",
      "\n",
      "Query: Conveyors\n",
      "\n",
      "Top 5 most similar sentences in corpus:\n",
      "mason.Hydroforming (Score: 0.3268)\n",
      "mason.Manufacturing_concept (Score: 0.3115)\n",
      "mason.Manual_moulding (Score: 0.3106)\n",
      "Robot\n",
      "\n",
      "\n",
      "======================\n",
      "\n",
      "\n",
      "Query: Robot\n",
      "\n",
      "Top 5 most similar sentences in corpus:\n",
      "mason.Machine-tool (Score: 0.3474)\n",
      "mason.Folding_machine (Score: 0.3307)\n",
      "mason.Grinding_machine (Score: 0.3096)\n"
     ]
    }
   ],
   "source": [
    "from ontology.utils.ontology import Ontology\n",
    "\n",
    "\n",
    "from sentence_transformers import SentenceTransformer, util\n",
    "import torch\n",
    "\n",
    "embedder = SentenceTransformer('all-MiniLM-L6-v2')\n",
    "\n",
    "# Corpus with example sentences\n",
    "# abc = list(onto.classes())\n",
    "corpus = [str(a_class) for a_class in onto.classes()]\n",
    "# corpus = abc\n",
    "corpus_embeddings = embedder.encode(corpus, convert_to_tensor=True)\n",
    "\n",
    "# Query sentences:\n",
    "queries = OntoLabels().load_from_yaml(\"detection/dataset/data.yaml\")  # Class list\n",
    "# Find the closest 5 sentences of the corpus for each query sentence based on cosine similarity\n",
    "top_k = min(3, len(corpus))\n",
    "for query in queries:\n",
    "    print(query)\n",
    "    query_embedding = embedder.encode(query, convert_to_tensor=True)\n",
    "\n",
    "    # We use cosine-similarity and torch.topk to find the highest 5 scores\n",
    "    cos_scores = util.cos_sim(query_embedding, corpus_embeddings)[0]\n",
    "    top_results = torch.topk(cos_scores, k=top_k)\n",
    "\n",
    "    print(\"\\n\\n======================\\n\\n\")\n",
    "    print(\"Query:\", query)\n",
    "    print(\"\\nTop 5 most similar sentences in corpus:\")\n",
    "\n",
    "    for score, idx in zip(top_results[0], top_results[1]):\n",
    "        print(corpus[idx], \"(Score: {:.4f})\".format(score))\n",
    "\n",
    "    \"\"\"\n",
    "    # Alternatively, we can also use util.semantic_search to perform cosine similarty + topk\n",
    "    hits = util.semantic_search(query_embedding, corpus_embeddings, top_k=5)\n",
    "    hits = hits[0]      #Get the hits for the first query\n",
    "    for hit in hits:\n",
    "        print(corpus[hit['corpus_id']], \"(Score: {:.4f})\".format(hit['score']))\n",
    "    \"\"\""
   ]
  },
  {
   "cell_type": "markdown",
   "id": "74aa1522",
   "metadata": {},
   "source": [
    "# 4.If there are no matches classes for our object, we will add the class to our ontology using owlready2"
   ]
  },
  {
   "cell_type": "code",
   "execution_count": 27,
   "id": "9b1165c8",
   "metadata": {},
   "outputs": [],
   "source": [
    "#not manually- similarity measure(sementic+string) \n",
    "#as of now super class is thing threshold is 0.5....\n",
    "\n",
    "#from owlready2 import *\n",
    "#onto = get_ontology(\"http://test.org/onto.owl\")  \n"
   ]
  },
  {
   "cell_type": "markdown",
   "id": "e296cb5e",
   "metadata": {},
   "source": [
    "# 5.populate the objects inside of related classes using owlready2"
   ]
  },
  {
   "cell_type": "code",
   "execution_count": 69,
   "id": "54b40dcd",
   "metadata": {},
   "outputs": [],
   "source": [
    "\n",
    "#not manually- list of classes/objects using for loop.\n",
    "\n",
    "# BandSaw_Controls = Band_Saw(\"BandSaw_Controls\")\n"
   ]
  },
  {
   "cell_type": "code",
   "execution_count": 23,
   "id": "0c2c8c35",
   "metadata": {},
   "outputs": [],
   "source": [
    "# destroy_entity(onto.Lathe_Ch_Controls)"
   ]
  },
  {
   "cell_type": "code",
   "execution_count": 3,
   "id": "5de34e4a",
   "metadata": {},
   "outputs": [],
   "source": [
    "#Access the classes of the ontology, and create new instances / individuals:\n",
    "onto.Machine_Tool"
   ]
  },
  {
   "cell_type": "code",
   "execution_count": 6,
   "id": "7bbb8896",
   "metadata": {},
   "outputs": [
    {
     "name": "stdout",
     "output_type": "stream",
     "text": [
      "mason.Machine_tool\n"
     ]
    }
   ],
   "source": [
    "print(onto.Machine_tool)"
   ]
  },
  {
   "cell_type": "code",
   "execution_count": 8,
   "id": "ed898d2d",
   "metadata": {},
   "outputs": [
    {
     "data": {
      "text/plain": [
       "[mason.previousOperation,\n",
       " mason.assembles,\n",
       " mason.isAPartOfAssembly,\n",
       " mason.isMachinableByProcess,\n",
       " mason.allowedProcessFor,\n",
       " mason.enablesRealisationOf,\n",
       " mason.requiresMachine,\n",
       " mason.toolUsableOn,\n",
       " mason.isMachinableWithTool,\n",
       " mason.requiredToolFor,\n",
       " mason.requiresTool,\n",
       " mason.isExecutedBy,\n",
       " mason.execute,\n",
       " mason.isInducedBy,\n",
       " mason.induces,\n",
       " mason.hasSymmetry,\n",
       " mason.contains,\n",
       " mason.isLocatedIn,\n",
       " mason.includes,\n",
       " mason.isIn,\n",
       " mason.usesTool,\n",
       " mason.isUsedBy,\n",
       " mason.becomes,\n",
       " mason.ofTopology,\n",
       " mason.hasShape,\n",
       " mason.isMadeOf]"
      ]
     },
     "execution_count": 8,
     "metadata": {},
     "output_type": "execute_result"
    }
   ],
   "source": [
    "list(onto.object_properties())"
   ]
  },
  {
   "cell_type": "code",
   "execution_count": 11,
   "id": "96c50173",
   "metadata": {},
   "outputs": [
    {
     "data": {
      "text/plain": [
       "[mason.identifier,\n",
       " mason.rugosity,\n",
       " mason.duration,\n",
       " mason.batch_run_size,\n",
       " mason.corrugation,\n",
       " mason.name,\n",
       " mason.complexity_rating,\n",
       " mason.delay,\n",
       " mason.dimension_X,\n",
       " mason.dimension_Y,\n",
       " mason.operating_rate,\n",
       " mason.dimension_Z,\n",
       " mason.volume,\n",
       " mason.filling_rate]"
      ]
     },
     "execution_count": 11,
     "metadata": {},
     "output_type": "execute_result"
    }
   ],
   "source": [
    "list(onto.data_properties())"
   ]
  },
  {
   "cell_type": "code",
   "execution_count": 10,
   "id": "4202a1f4",
   "metadata": {},
   "outputs": [
    {
     "data": {
      "text/plain": [
       "[]"
      ]
     },
     "execution_count": 10,
     "metadata": {},
     "output_type": "execute_result"
    }
   ],
   "source": [
    "list(onto.annotation_properties())"
   ]
  },
  {
   "cell_type": "code",
   "execution_count": 55,
   "id": "cd8105b1",
   "metadata": {},
   "outputs": [
    {
     "data": {
      "text/plain": [
       "[mason.identifier,\n",
       " mason.rugosity,\n",
       " mason.duration,\n",
       " mason.batch_run_size,\n",
       " mason.corrugation,\n",
       " mason.name,\n",
       " mason.complexity_rating,\n",
       " mason.delay,\n",
       " mason.dimension_X,\n",
       " mason.dimension_Y,\n",
       " mason.operating_rate,\n",
       " mason.dimension_Z,\n",
       " mason.volume,\n",
       " mason.filling_rate,\n",
       " mason.previousOperation,\n",
       " mason.assembles,\n",
       " mason.isMachinableByProcess,\n",
       " mason.enablesRealisationOf,\n",
       " mason.toolUsableOn,\n",
       " mason.isMachinableWithTool,\n",
       " mason.requiredToolFor,\n",
       " mason.requiresTool,\n",
       " mason.isExecutedBy,\n",
       " mason.execute,\n",
       " mason.isInducedBy,\n",
       " mason.induces,\n",
       " mason.hasSymmetry,\n",
       " mason.contains,\n",
       " mason.isLocatedIn,\n",
       " mason.includes,\n",
       " mason.isIn,\n",
       " mason.isAPartOfAssembly,\n",
       " mason.usesTool,\n",
       " mason.isUsedBy,\n",
       " mason.allowedProcessFor,\n",
       " mason.becomes,\n",
       " mason.requiresMachine,\n",
       " mason.ofTopology,\n",
       " mason.hasShape,\n",
       " mason.isMadeOf]"
      ]
     },
     "execution_count": 55,
     "metadata": {},
     "output_type": "execute_result"
    }
   ],
   "source": [
    "list(onto.properties())"
   ]
  },
  {
   "cell_type": "code",
   "execution_count": 16,
   "id": "4f6b9600",
   "metadata": {},
   "outputs": [
    {
     "data": {
      "text/plain": [
       "[]"
      ]
     },
     "execution_count": 16,
     "metadata": {},
     "output_type": "execute_result"
    }
   ],
   "source": [
    "list(onto.disjoint_classes() )"
   ]
  },
  {
   "cell_type": "code",
   "execution_count": 18,
   "id": "38f3eccd",
   "metadata": {},
   "outputs": [
    {
     "data": {
      "text/plain": [
       "[]"
      ]
     },
     "execution_count": 18,
     "metadata": {},
     "output_type": "execute_result"
    }
   ],
   "source": [
    "list(onto.disjoint_properties())"
   ]
  },
  {
   "cell_type": "code",
   "execution_count": 19,
   "id": "d2f3eb78",
   "metadata": {},
   "outputs": [
    {
     "data": {
      "text/plain": [
       "[]"
      ]
     },
     "execution_count": 19,
     "metadata": {},
     "output_type": "execute_result"
    }
   ],
   "source": [
    "list(onto .disjoints() )"
   ]
  },
  {
   "cell_type": "code",
   "execution_count": 11,
   "id": "e76df2a1",
   "metadata": {
    "scrolled": true
   },
   "outputs": [
    {
     "data": {
      "text/plain": [
       "[]"
      ]
     },
     "execution_count": 11,
     "metadata": {},
     "output_type": "execute_result"
    }
   ],
   "source": [
    "list(onto.different_individuals())"
   ]
  },
  {
   "cell_type": "code",
   "execution_count": 28,
   "id": "bf551a82",
   "metadata": {},
   "outputs": [],
   "source": [
    "#delete class\n",
    "# destroy_entity(onto.Images)"
   ]
  },
  {
   "cell_type": "code",
   "execution_count": 44,
   "id": "1531f028",
   "metadata": {},
   "outputs": [
    {
     "name": "stdout",
     "output_type": "stream",
     "text": [
      "[mason.Machine_resource]\n"
     ]
    }
   ],
   "source": [
    " #to get parent class\n",
    "print(onto.Images.is_a)"
   ]
  },
  {
   "cell_type": "code",
   "execution_count": 43,
   "id": "d0824a08",
   "metadata": {},
   "outputs": [
    {
     "data": {
      "text/plain": [
       "mason.Images"
      ]
     },
     "execution_count": 43,
     "metadata": {},
     "output_type": "execute_result"
    }
   ],
   "source": [
    "# Owlready classes and individuals can be used as values within search(), as follows:\n",
    "onto.search_one(is_a=onto.Images)"
   ]
  },
  {
   "cell_type": "code",
   "execution_count": 46,
   "id": "9b10aff7",
   "metadata": {},
   "outputs": [],
   "source": [
    "#to check the flow of parent and subclasses # .descendants()#.ancestors()\n",
    "# Robots.descendants() "
   ]
  },
  {
   "cell_type": "code",
   "execution_count": 7,
   "id": "b2b69b4d",
   "metadata": {},
   "outputs": [
    {
     "data": {
      "text/plain": [
       "[]"
      ]
     },
     "execution_count": 7,
     "metadata": {},
     "output_type": "execute_result"
    }
   ],
   "source": [
    "list(onto.individuals())"
   ]
  },
  {
   "cell_type": "code",
   "execution_count": 53,
   "id": "16060d87",
   "metadata": {},
   "outputs": [],
   "source": [
    "##save ontology\n",
    "onto.save()\n",
    "try:\n",
    "    onto.save(file = \"./ontology_mason.rdf\", format = \"rdfxml\")\n",
    "except ValueError:\n",
    "    print(ValueError)\n",
    "# onto.save(file = \"test_mason\", format = \"rdfxml\")"
   ]
  },
  {
   "cell_type": "code",
   "execution_count": null,
   "id": "535b2f2b",
   "metadata": {},
   "outputs": [],
   "source": [
    "#To put mason ontology on neo4j#neo4jconnection #used to be COnnect2Neo4j"
   ]
  },
  {
   "cell_type": "markdown",
   "id": "9b0bc3dc",
   "metadata": {},
   "source": [
    "# 6.create the classes from images dynamically\n"
   ]
  },
  {
   "cell_type": "code",
   "execution_count": null,
   "id": "de7958b1",
   "metadata": {},
   "outputs": [],
   "source": [
    "# first-extract json files data"
   ]
  },
  {
   "cell_type": "code",
   "execution_count": 8,
   "id": "c85bcf47",
   "metadata": {},
   "outputs": [
    {
     "name": "stdout",
     "output_type": "stream",
     "text": [
      "file is: ['data\\\\IMG_0197.json', 'data\\\\IMG_0198.json', 'data\\\\IMG_0204.json']\n"
     ]
    },
    {
     "data": {
      "text/plain": [
       "[['7aaeffd59beadd670d3f7d150420a9e34cc515887ae7c9a224cc2d30d626947c',\n",
       "  'IMG_0197',\n",
       "  ['Robot_UpperArm',\n",
       "   'Robot_Head',\n",
       "   'Robot_UpperArm',\n",
       "   'Robot_UpperArm',\n",
       "   'Robot_BaseArm']],\n",
       " ['9f8899036628c22774625074265061f45cc128a703b155f585366f8597c55ee1',\n",
       "  'IMG_0198',\n",
       "  ['Robot_UpperArm',\n",
       "   'Robot_Head',\n",
       "   'Robot_UpperArm',\n",
       "   'Robot_BaseArm',\n",
       "   'Robot_UpperArm']],\n",
       " ['a366c7172d098c9c00576e46d648fc46ef0fcbb3b250e286e4b2262ec99db186',\n",
       "  'IMG_0204',\n",
       "  ['3DPrinter_Filament',\n",
       "   '3DPrinter_Body',\n",
       "   'Robot_Head',\n",
       "   '3DPrinter_Filament',\n",
       "   'Robot_UpperArm',\n",
       "   '3DPrinter_Filament',\n",
       "   'Robot_BaseArm',\n",
       "   'Robot_UpperArm',\n",
       "   'Robot_Head']]]"
      ]
     },
     "execution_count": 8,
     "metadata": {},
     "output_type": "execute_result"
    }
   ],
   "source": [
    "import json\n",
    "import glob\n",
    "from datetime import datetime\n",
    "# Place your JSON data in a directory named 'data/'\n",
    "src = \"data/\"\n",
    "\n",
    "date = datetime.now()\n",
    "data = []\n",
    "\n",
    "# Change the glob if you want to only look through files with specific names\n",
    "files = glob.glob('data/*', recursive=True)\n",
    "print('file is:',files)\n",
    "# Loop through files\n",
    "\n",
    "for single_file in files:\n",
    "    \n",
    "#     print(single_file)\n",
    "    with open(single_file, 'r') as f:\n",
    "\n",
    "        # Use 'try-except' to skip files that may be missing data\n",
    "        try:\n",
    "            \n",
    "            \n",
    "            json_file = json.load(f)\n",
    "            data.append([\n",
    "              json_file['img_id'],\n",
    "              json_file['img_name'],\n",
    "#               json_file['detection'],\n",
    "#               json_file['detection'][0][1],\n",
    "              [item[1] for item in json_file['detection']]  \n",
    "            ])\n",
    "        except KeyError:\n",
    "            print(f'Skipping {single_file}')\n",
    "\n",
    "# Sort the data\n",
    "data.sort()\n",
    "\n",
    "# Add headers\n",
    "# data.insert(0, ['img_id','img_name','detection'])\n",
    "data\n",
    "\n"
   ]
  },
  {
   "cell_type": "code",
   "execution_count": 9,
   "id": "5dce3215",
   "metadata": {},
   "outputs": [
    {
     "name": "stdout",
     "output_type": "stream",
     "text": [
      "['_7aaeffd59beadd670d3f7d150420a9e34cc515887ae7c9a224cc2d30d626947c', '_9f8899036628c22774625074265061f45cc128a703b155f585366f8597c55ee1', '_a366c7172d098c9c00576e46d648fc46ef0fcbb3b250e286e4b2262ec99db186']   [['Robot_UpperArm', 'Robot_Head', 'Robot_UpperArm', 'Robot_UpperArm', 'Robot_BaseArm'], ['Robot_UpperArm', 'Robot_Head', 'Robot_UpperArm', 'Robot_BaseArm', 'Robot_UpperArm'], ['3DPrinter_Filament', '3DPrinter_Body', 'Robot_Head', '3DPrinter_Filament', 'Robot_UpperArm', '3DPrinter_Filament', 'Robot_BaseArm', 'Robot_UpperArm', 'Robot_Head']]\n"
     ]
    }
   ],
   "source": [
    "imgClasses= ['_'+item[0] for item in data]  \n",
    "imgObjects= [item[2] for item in data]   #[set(item[2]) for item in data]  \n",
    "print(imgClasses,' ',imgObjects)"
   ]
  },
  {
   "cell_type": "code",
   "execution_count": 10,
   "id": "ec95091e",
   "metadata": {},
   "outputs": [],
   "source": [
    "# destroy_entity(onto._9f8899036628c22774625074265061f45cc128a703b155f585366f8597c55ee1)\n",
    "# destroy_entity(onto._7aaeffd59beadd670d3f7d150420a9e34cc515887ae7c9a224cc2d30d626947c)\n",
    "# destroy_entity(onto.Robot_UpperArm_0)\n",
    "# destroy_entity(onto.Robot_Head_1)\n",
    "# destroy_entity(onto.Robot_UpperArm_2)\n",
    "# destroy_entity(onto.Robot_UpperArm_3)\n",
    "# destroy_entity(onto.Robot_BaseArm_4)\n",
    "# destroy_entity(onto.Robot_BaseArm_3)\n",
    "# destroy_entity(onto.Robot_UpperArm_4)\n",
    "# destroy_entity(onto.3DPrinter_Filament_0)\n",
    "# destroy_entity(onto.3DPrinter_Body_1)\n",
    "# destroy_entity(onto.Robot_UpperArm_4)"
   ]
  },
  {
   "cell_type": "code",
   "execution_count": 78,
   "id": "fa351ded",
   "metadata": {},
   "outputs": [],
   "source": [
    "# destroy_entity(onto.Robot_UpperArm)\n",
    "# destroy_entity(onto.Robot_Head)\n",
    "# destroy_entity(onto.Robot_BaseArm)"
   ]
  },
  {
   "cell_type": "code",
   "execution_count": 64,
   "id": "7602fa9d",
   "metadata": {},
   "outputs": [],
   "source": [
    "# def createNewClass(createClass):\n",
    "#     # To do: Create New Class\n",
    "#     y = createClass\n",
    "#     SuperClass =  onto.Images #static value (root class)\n",
    "#     for index, val in enumerate(createClass):\n",
    "#         with onto:\n",
    "# #             print(val, index)\n",
    "#             yvalue = y[index]\n",
    "#             NewClass = types.new_class(yvalue, (onto.Images,))\n",
    "            \n",
    "# createNewClass(imgClasses)"
   ]
  },
  {
   "cell_type": "code",
   "execution_count": 11,
   "id": "cbd8a189",
   "metadata": {},
   "outputs": [
    {
     "name": "stdout",
     "output_type": "stream",
     "text": [
      "_7aaeffd59beadd670d3f7d150420a9e34cc515887ae7c9a224cc2d30d626947c 0\n",
      "_0_Robot_UpperArm\n",
      "_1_Robot_Head\n",
      "_2_Robot_UpperArm\n",
      "_3_Robot_UpperArm\n",
      "_4_Robot_BaseArm\n",
      "_9f8899036628c22774625074265061f45cc128a703b155f585366f8597c55ee1 1\n",
      "_0_Robot_UpperArm\n",
      "_1_Robot_Head\n",
      "_2_Robot_UpperArm\n",
      "_3_Robot_BaseArm\n",
      "_4_Robot_UpperArm\n",
      "_a366c7172d098c9c00576e46d648fc46ef0fcbb3b250e286e4b2262ec99db186 2\n",
      "_0_3DPrinter_Filament\n",
      "_1_3DPrinter_Body\n",
      "_2_Robot_Head\n",
      "_3_3DPrinter_Filament\n",
      "_4_Robot_UpperArm\n",
      "_5_3DPrinter_Filament\n",
      "_6_Robot_BaseArm\n",
      "_7_Robot_UpperArm\n",
      "_8_Robot_Head\n"
     ]
    }
   ],
   "source": [
    "def createNewClass(createClass,createobject):\n",
    "    # To do: Create New Class\n",
    "    y = createClass\n",
    "    z = createobject\n",
    "    SuperClass =  onto.Images #static value (root class)\n",
    "    for index, val in enumerate(createClass):\n",
    "        print(val, index)\n",
    "#     for index, val in enumerate(createobject):\n",
    "        with onto:\n",
    "            yvalue = y[index]\n",
    "            zvalue = z[index]\n",
    "            NewClass = types.new_class(yvalue, (onto.Images,))\n",
    "            for index, val in enumerate(zvalue):\n",
    "                print('_'+str(index)+'_'+val)\n",
    "                my_obj = NewClass('_'+str(index)+'_'+val)\n",
    "    \n",
    "createNewClass(imgClasses,imgObjects)"
   ]
  },
  {
   "cell_type": "code",
   "execution_count": 12,
   "id": "e222fd1e",
   "metadata": {},
   "outputs": [
    {
     "data": {
      "text/plain": [
       "[mason._0_Robot_UpperArm,\n",
       " mason._1_Robot_Head,\n",
       " mason._2_Robot_UpperArm,\n",
       " mason._3_Robot_UpperArm,\n",
       " mason._4_Robot_BaseArm,\n",
       " mason._3_Robot_BaseArm,\n",
       " mason._4_Robot_UpperArm,\n",
       " mason._0_3DPrinter_Filament,\n",
       " mason._1_3DPrinter_Body,\n",
       " mason._2_Robot_Head,\n",
       " mason._3_3DPrinter_Filament,\n",
       " mason._5_3DPrinter_Filament,\n",
       " mason._6_Robot_BaseArm,\n",
       " mason._7_Robot_UpperArm,\n",
       " mason._8_Robot_Head]"
      ]
     },
     "execution_count": 12,
     "metadata": {},
     "output_type": "execute_result"
    }
   ],
   "source": [
    "list(onto.individuals())"
   ]
  },
  {
   "cell_type": "code",
   "execution_count": 13,
   "id": "59bcc9dc",
   "metadata": {},
   "outputs": [
    {
     "name": "stdout",
     "output_type": "stream",
     "text": [
      "mason._0_Robot_UpperArm\n",
      "mason._1_Robot_Head\n",
      "mason._2_Robot_UpperArm\n",
      "mason._3_Robot_BaseArm\n",
      "mason._4_Robot_UpperArm\n"
     ]
    }
   ],
   "source": [
    " for i in onto._9f8899036628c22774625074265061f45cc128a703b155f585366f8597c55ee1.instances(): print(i) #for image 0198"
   ]
  },
  {
   "cell_type": "code",
   "execution_count": 14,
   "id": "a1bc102c",
   "metadata": {},
   "outputs": [
    {
     "name": "stdout",
     "output_type": "stream",
     "text": [
      "mason._0_Robot_UpperArm\n",
      "mason._1_Robot_Head\n",
      "mason._2_Robot_UpperArm\n",
      "mason._3_Robot_UpperArm\n",
      "mason._4_Robot_BaseArm\n"
     ]
    }
   ],
   "source": [
    " for i in onto._7aaeffd59beadd670d3f7d150420a9e34cc515887ae7c9a224cc2d30d626947c.instances(): print(i) #for image 0197"
   ]
  },
  {
   "cell_type": "code",
   "execution_count": 15,
   "id": "805efc17",
   "metadata": {},
   "outputs": [
    {
     "name": "stdout",
     "output_type": "stream",
     "text": [
      "mason._4_Robot_UpperArm\n",
      "mason._0_3DPrinter_Filament\n",
      "mason._1_3DPrinter_Body\n",
      "mason._2_Robot_Head\n",
      "mason._3_3DPrinter_Filament\n",
      "mason._5_3DPrinter_Filament\n",
      "mason._6_Robot_BaseArm\n",
      "mason._7_Robot_UpperArm\n",
      "mason._8_Robot_Head\n"
     ]
    }
   ],
   "source": [
    " for i in onto._a366c7172d098c9c00576e46d648fc46ef0fcbb3b250e286e4b2262ec99db186 .instances(): print(i) #for image 0204"
   ]
  },
  {
   "cell_type": "code",
   "execution_count": 16,
   "id": "84076f48",
   "metadata": {},
   "outputs": [
    {
     "data": {
      "text/plain": [
       "[mason._a366c7172d098c9c00576e46d648fc46ef0fcbb3b250e286e4b2262ec99db186]"
      ]
     },
     "execution_count": 16,
     "metadata": {},
     "output_type": "execute_result"
    }
   ],
   "source": [
    "# onto.Robot_Head.class()\n",
    "onto._5_3DPrinter_Filament.is_a"
   ]
  },
  {
   "cell_type": "markdown",
   "id": "4c958245",
   "metadata": {},
   "source": [
    "# relations between the objects of one image"
   ]
  },
  {
   "cell_type": "markdown",
   "id": "45f5c1cb",
   "metadata": {},
   "source": [
    "# 7.import the final ontology into Neo4j (I provide you the code)"
   ]
  },
  {
   "cell_type": "code",
   "execution_count": 106,
   "id": "7d7a526b",
   "metadata": {},
   "outputs": [
    {
     "name": "stdout",
     "output_type": "stream",
     "text": [
      "Failed to create driver: name 'GraphDatabase' is not defined\n"
     ]
    },
    {
     "ename": "AssertionError",
     "evalue": "Driver not initialized!",
     "output_type": "error",
     "traceback": [
      "\u001b[1;31m---------------------------------------------------------------------------\u001b[0m",
      "\u001b[1;31mAssertionError\u001b[0m                            Traceback (most recent call last)",
      "\u001b[1;32mC:\\Users\\ABHISH~1\\AppData\\Local\\Temp/ipykernel_10448/2303404788.py\u001b[0m in \u001b[0;36m<module>\u001b[1;34m\u001b[0m\n\u001b[0;32m    110\u001b[0m \u001b[1;33m\u001b[0m\u001b[0m\n\u001b[0;32m    111\u001b[0m \u001b[1;32mif\u001b[0m \u001b[0m__name__\u001b[0m \u001b[1;33m==\u001b[0m \u001b[1;34m\"__main__\"\u001b[0m\u001b[1;33m:\u001b[0m\u001b[1;33m\u001b[0m\u001b[1;33m\u001b[0m\u001b[0m\n\u001b[1;32m--> 112\u001b[1;33m     \u001b[0mgreeter\u001b[0m \u001b[1;33m=\u001b[0m \u001b[0mNeo4j_connection\u001b[0m\u001b[1;33m(\u001b[0m\u001b[1;34m\"bolt://localhost:7687\"\u001b[0m\u001b[1;33m,\u001b[0m \u001b[1;34m\"mason\"\u001b[0m\u001b[1;33m,\u001b[0m \u001b[1;34m\"password\"\u001b[0m\u001b[1;33m)\u001b[0m\u001b[1;33m\u001b[0m\u001b[1;33m\u001b[0m\u001b[0m\n\u001b[0m\u001b[0;32m    113\u001b[0m     \u001b[0mgreeter\u001b[0m\u001b[1;33m.\u001b[0m\u001b[0muploading_orx\u001b[0m\u001b[1;33m(\u001b[0m\u001b[1;34m\"'file:///Users/ABHISHEK MATHUR/ontology_mason'\"\u001b[0m\u001b[1;33m,\u001b[0m \u001b[1;34m\"mason\"\u001b[0m\u001b[1;33m)\u001b[0m\u001b[1;33m\u001b[0m\u001b[1;33m\u001b[0m\u001b[0m\n\u001b[0;32m    114\u001b[0m     \u001b[0mgreeter\u001b[0m\u001b[1;33m.\u001b[0m\u001b[0mclose\u001b[0m\u001b[1;33m(\u001b[0m\u001b[1;33m)\u001b[0m\u001b[1;33m\u001b[0m\u001b[1;33m\u001b[0m\u001b[0m\n",
      "\u001b[1;32mC:\\Users\\ABHISH~1\\AppData\\Local\\Temp/ipykernel_10448/2303404788.py\u001b[0m in \u001b[0;36m__init__\u001b[1;34m(self, uri, user, pwd, database_name)\u001b[0m\n\u001b[0;32m     17\u001b[0m         \u001b[0mCALL\u001b[0m \u001b[0mdb\u001b[0m\u001b[1;33m.\u001b[0m\u001b[0mconstraints\u001b[0m\u001b[1;33m(\u001b[0m\u001b[1;33m)\u001b[0m\u001b[1;33m\u001b[0m\u001b[1;33m\u001b[0m\u001b[0m\n\u001b[0;32m     18\u001b[0m                  '''\n\u001b[1;32m---> 19\u001b[1;33m         \u001b[0ma\u001b[0m \u001b[1;33m=\u001b[0m \u001b[0mself\u001b[0m\u001b[1;33m.\u001b[0m\u001b[0mquery\u001b[0m\u001b[1;33m(\u001b[0m\u001b[0mquery_string\u001b[0m\u001b[1;33m,\u001b[0m \u001b[0mdb\u001b[0m\u001b[1;33m=\u001b[0m \u001b[0mself\u001b[0m\u001b[1;33m.\u001b[0m\u001b[0m__database_name\u001b[0m\u001b[1;33m)\u001b[0m\u001b[1;33m\u001b[0m\u001b[1;33m\u001b[0m\u001b[0m\n\u001b[0m\u001b[0;32m     20\u001b[0m         \u001b[0mconstr\u001b[0m \u001b[1;33m=\u001b[0m \u001b[0mstr\u001b[0m\u001b[1;33m(\u001b[0m\u001b[0ma\u001b[0m\u001b[1;33m)\u001b[0m\u001b[1;33m\u001b[0m\u001b[1;33m\u001b[0m\u001b[0m\n\u001b[0;32m     21\u001b[0m         \u001b[1;32mtry\u001b[0m\u001b[1;33m:\u001b[0m\u001b[1;33m\u001b[0m\u001b[1;33m\u001b[0m\u001b[0m\n",
      "\u001b[1;32mC:\\Users\\ABHISH~1\\AppData\\Local\\Temp/ipykernel_10448/2303404788.py\u001b[0m in \u001b[0;36mquery\u001b[1;34m(self, query, db)\u001b[0m\n\u001b[0;32m     96\u001b[0m \u001b[1;33m\u001b[0m\u001b[0m\n\u001b[0;32m     97\u001b[0m     \u001b[1;32mdef\u001b[0m \u001b[0mquery\u001b[0m\u001b[1;33m(\u001b[0m\u001b[0mself\u001b[0m\u001b[1;33m,\u001b[0m \u001b[0mquery\u001b[0m\u001b[1;33m,\u001b[0m \u001b[0mdb\u001b[0m\u001b[1;33m=\u001b[0m\u001b[1;32mNone\u001b[0m\u001b[1;33m)\u001b[0m\u001b[1;33m:\u001b[0m \u001b[1;31m#query commands of choice.\u001b[0m\u001b[1;33m\u001b[0m\u001b[1;33m\u001b[0m\u001b[0m\n\u001b[1;32m---> 98\u001b[1;33m         \u001b[1;32massert\u001b[0m \u001b[0mself\u001b[0m\u001b[1;33m.\u001b[0m\u001b[0m__driver\u001b[0m \u001b[1;32mis\u001b[0m \u001b[1;32mnot\u001b[0m \u001b[1;32mNone\u001b[0m\u001b[1;33m,\u001b[0m \u001b[1;34m\"Driver not initialized!\"\u001b[0m\u001b[1;33m\u001b[0m\u001b[1;33m\u001b[0m\u001b[0m\n\u001b[0m\u001b[0;32m     99\u001b[0m         \u001b[0msession\u001b[0m \u001b[1;33m=\u001b[0m \u001b[1;32mNone\u001b[0m\u001b[1;33m\u001b[0m\u001b[1;33m\u001b[0m\u001b[0m\n\u001b[0;32m    100\u001b[0m         \u001b[0mresponse\u001b[0m \u001b[1;33m=\u001b[0m \u001b[1;32mNone\u001b[0m\u001b[1;33m\u001b[0m\u001b[1;33m\u001b[0m\u001b[0m\n",
      "\u001b[1;31mAssertionError\u001b[0m: Driver not initialized!"
     ]
    }
   ],
   "source": [
    "class Neo4j_connection: #neo4jconnection #used to be COnnect2Neo4j\n",
    "\n",
    "    def __init__(self, uri, user, pwd, database_name=\"neo4j\"): #connect to the server; create constraint if not exist; default database is \"Neo4j\"\n",
    "        self.__uri = uri\n",
    "        self.__user = user\n",
    "        self.__pwd = pwd\n",
    "        self.__driver = None\n",
    "        self.__database_name = database_name\n",
    "\n",
    "        try:\n",
    "            self.__driver = GraphDatabase.driver(self.__uri, auth=(self.__user, self.__pwd))\n",
    "        except Exception as e:\n",
    "            print(\"Failed to create driver:\", e)\n",
    "\n",
    "         # check if the neccessary config already existed. if not, create.\n",
    "        query_string = '''\n",
    "        CALL db.constraints()\n",
    "                 '''\n",
    "        a = self.query(query_string, db= self.__database_name)\n",
    "        constr = str(a)\n",
    "        try:\n",
    "            b = constr[constr.find(\"description='\")+13:constr.find(' ON')]\n",
    "        except Exception as e:\n",
    "            pass\n",
    "        if b == 'CONSTRAINT':\n",
    "            print(\"Constraint already existed\")\n",
    "        else:\n",
    "            try:\n",
    "                query_string = '''\n",
    "                    CREATE CONSTRAINT n10s_unique_uri ON (r:Resource)\n",
    "                    ASSERT r.uri IS UNIQUE  \n",
    "                            '''\n",
    "                self.query(query_string, db = self.__database_name)\n",
    "            except Exception as e:\n",
    "                print(\"Failed to create constraint - check again\", e)\n",
    "\n",
    "        # check if the neccessary config already existed. if not, create.\n",
    "        query_string = '''\n",
    "        match(n) return count(n)\n",
    "        '''\n",
    "        a = self.query(query_string, db= self.__database_name)\n",
    "        strin = str(a[0])\n",
    "        config_check = int(strin[strin.find(\"=\")+1:strin.find(\">\")])\n",
    "        if config_check != 0:\n",
    "            print(\"Config already existed\")\n",
    "        else:\n",
    "            try: #setting up neccessary config for neosemantics\n",
    "                query_string = '''\n",
    "                    CALL n10s.graphconfig.init()\n",
    "                                '''\n",
    "                self.query(query_string, db= self.__database_name)\n",
    "\n",
    "            except Exception as e:\n",
    "                print(\"Failed to initiate graphconfig: \", e)\n",
    "\n",
    "\n",
    "    def uploading_orx(self, address, db=None): #uploading OWL, RDF, and XML #i am trying to\n",
    "        query_string = (\n",
    "            \"call n10s.rdf.import.fetch(\" + f'{address}'+  ',\"RDF/XML\")')\n",
    "        assert self.__driver is not None, \"Driver not initialized!\"\n",
    "        session = None\n",
    "        response = None\n",
    "        try:\n",
    "            session = self.__driver.session(database=db) if db is not None else self.__driver.session()\n",
    "            response = list(session.run(query_string))\n",
    "            print(\"Sucessfully uploaded XML/RDF/OWL file \")\n",
    "        except Exception as e:\n",
    "            print(\"Upload failed:\", e)\n",
    "        finally:\n",
    "            if session is not None:\n",
    "                session.close()\n",
    "        return response\n",
    "\n",
    "\n",
    "    def uploading_ttl(self, address, db=None): #uploading Turtle files\n",
    "        query_string = (\n",
    "            \"call n10s.rdf.import.fetch(\" + f'{address}'+  ',\"Turtle\")')\n",
    "        assert self.__driver is not None, \"Driver not initialized!\"\n",
    "        session = None\n",
    "        response = None\n",
    "        try:\n",
    "            session = self.__driver.session(database=db) if db is not None else self.__driver.session()\n",
    "            response = list(session.run(query_string))\n",
    "            print(\"Sucessfully uploaded TTL file \")\n",
    "        except Exception as e:\n",
    "            print(\"Query failed:\", e)\n",
    "        finally:\n",
    "            if session is not None:\n",
    "                session.close()\n",
    "        return response\n",
    "\n",
    "\n",
    "    def close(self):\n",
    "        if self.__driver is not None:\n",
    "            self.__driver.close()\n",
    "\n",
    "    def query(self, query, db=None): #query commands of choice.\n",
    "        assert self.__driver is not None, \"Driver not initialized!\"\n",
    "        session = None\n",
    "        response = None\n",
    "        try:\n",
    "            session = self.__driver.session(database=db) if db is not None else self.__driver.session()\n",
    "            response = list(session.run(query))\n",
    "        except Exception as e:\n",
    "            print(\"Query failed:\", e)\n",
    "        finally:\n",
    "            if session is not None:\n",
    "                session.close()\n",
    "        return response\n",
    "\n",
    "if __name__ == \"__main__\": \n",
    "    greeter = Neo4j_connection(\"bolt://localhost:7687\", \"mason\", \"password\")\n",
    "    greeter.uploading_orx(\"'file:///Users/ABHISHEK MATHUR/ontology_mason'\", \"mason\")\n",
    "    greeter.close()\n",
    "\n"
   ]
  },
  {
   "cell_type": "code",
   "execution_count": 103,
   "id": "48a6bb8f",
   "metadata": {},
   "outputs": [
    {
     "name": "stdout",
     "output_type": "stream",
     "text": [
      "Failed to create driver: name 'GraphDatabase' is not defined\n"
     ]
    },
    {
     "ename": "AssertionError",
     "evalue": "Driver not initialized!",
     "output_type": "error",
     "traceback": [
      "\u001b[1;31m---------------------------------------------------------------------------\u001b[0m",
      "\u001b[1;31mAssertionError\u001b[0m                            Traceback (most recent call last)",
      "\u001b[1;32mC:\\Users\\ABHISH~1\\AppData\\Local\\Temp/ipykernel_10448/2787974529.py\u001b[0m in \u001b[0;36m<module>\u001b[1;34m\u001b[0m\n\u001b[0;32m    109\u001b[0m         \u001b[1;32mreturn\u001b[0m \u001b[0mresponse\u001b[0m\u001b[1;33m\u001b[0m\u001b[1;33m\u001b[0m\u001b[0m\n\u001b[0;32m    110\u001b[0m \u001b[1;33m\u001b[0m\u001b[0m\n\u001b[1;32m--> 111\u001b[1;33m \u001b[0ma\u001b[0m \u001b[1;33m=\u001b[0m \u001b[0mNeo4j_connection\u001b[0m\u001b[1;33m(\u001b[0m\u001b[1;34m\"bolt://localhost:7687\"\u001b[0m\u001b[1;33m,\u001b[0m \u001b[1;34m\"mason\"\u001b[0m\u001b[1;33m,\u001b[0m \u001b[1;34m\"password\"\u001b[0m\u001b[1;33m)\u001b[0m \u001b[1;31m#(\"bolt://localhost:7687\", \"neo4j\", \"1234567\")\u001b[0m\u001b[1;33m\u001b[0m\u001b[1;33m\u001b[0m\u001b[0m\n\u001b[0m\u001b[0;32m    112\u001b[0m \u001b[0ma\u001b[0m\u001b[1;33m.\u001b[0m\u001b[0muploading_orx\u001b[0m\u001b[1;33m(\u001b[0m\u001b[1;34m\"file:///Users/ABHISHEK MATHUR/ontology_mason.rdf\"\u001b[0m\u001b[1;33m,\u001b[0m \u001b[1;34m\"mason\"\u001b[0m\u001b[1;33m)\u001b[0m\u001b[1;33m\u001b[0m\u001b[1;33m\u001b[0m\u001b[0m\n\u001b[0;32m    113\u001b[0m \u001b[1;31m#(\"file:///Users/jhealynsamson/AP1/ontology_template.rdf\",\"neo4j\")\u001b[0m\u001b[1;33m\u001b[0m\u001b[1;33m\u001b[0m\u001b[0m\n",
      "\u001b[1;32mC:\\Users\\ABHISH~1\\AppData\\Local\\Temp/ipykernel_10448/2787974529.py\u001b[0m in \u001b[0;36m__init__\u001b[1;34m(self, uri, user, pwd, database_name)\u001b[0m\n\u001b[0;32m     18\u001b[0m         \u001b[0mCALL\u001b[0m \u001b[0mdb\u001b[0m\u001b[1;33m.\u001b[0m\u001b[0mconstraints\u001b[0m\u001b[1;33m(\u001b[0m\u001b[1;33m)\u001b[0m\u001b[1;33m\u001b[0m\u001b[1;33m\u001b[0m\u001b[0m\n\u001b[0;32m     19\u001b[0m                  '''\n\u001b[1;32m---> 20\u001b[1;33m         \u001b[0ma\u001b[0m \u001b[1;33m=\u001b[0m \u001b[0mself\u001b[0m\u001b[1;33m.\u001b[0m\u001b[0mquery\u001b[0m\u001b[1;33m(\u001b[0m\u001b[0mquery_string\u001b[0m\u001b[1;33m,\u001b[0m \u001b[0mdb\u001b[0m\u001b[1;33m=\u001b[0m \u001b[0mself\u001b[0m\u001b[1;33m.\u001b[0m\u001b[0m__database_name\u001b[0m\u001b[1;33m)\u001b[0m\u001b[1;33m\u001b[0m\u001b[1;33m\u001b[0m\u001b[0m\n\u001b[0m\u001b[0;32m     21\u001b[0m         \u001b[0mconstr\u001b[0m \u001b[1;33m=\u001b[0m \u001b[0mstr\u001b[0m\u001b[1;33m(\u001b[0m\u001b[0ma\u001b[0m\u001b[1;33m)\u001b[0m\u001b[1;33m\u001b[0m\u001b[1;33m\u001b[0m\u001b[0m\n\u001b[0;32m     22\u001b[0m         \u001b[1;32mtry\u001b[0m\u001b[1;33m:\u001b[0m\u001b[1;33m\u001b[0m\u001b[1;33m\u001b[0m\u001b[0m\n",
      "\u001b[1;32mC:\\Users\\ABHISH~1\\AppData\\Local\\Temp/ipykernel_10448/2787974529.py\u001b[0m in \u001b[0;36mquery\u001b[1;34m(self, query, db)\u001b[0m\n\u001b[0;32m     96\u001b[0m \u001b[1;33m\u001b[0m\u001b[0m\n\u001b[0;32m     97\u001b[0m     \u001b[1;32mdef\u001b[0m \u001b[0mquery\u001b[0m\u001b[1;33m(\u001b[0m\u001b[0mself\u001b[0m\u001b[1;33m,\u001b[0m \u001b[0mquery\u001b[0m\u001b[1;33m,\u001b[0m \u001b[0mdb\u001b[0m\u001b[1;33m=\u001b[0m\u001b[1;32mNone\u001b[0m\u001b[1;33m)\u001b[0m\u001b[1;33m:\u001b[0m \u001b[1;31m#query commands of choice.\u001b[0m\u001b[1;33m\u001b[0m\u001b[1;33m\u001b[0m\u001b[0m\n\u001b[1;32m---> 98\u001b[1;33m         \u001b[1;32massert\u001b[0m \u001b[0mself\u001b[0m\u001b[1;33m.\u001b[0m\u001b[0m__driver\u001b[0m \u001b[1;32mis\u001b[0m \u001b[1;32mnot\u001b[0m \u001b[1;32mNone\u001b[0m\u001b[1;33m,\u001b[0m \u001b[1;34m\"Driver not initialized!\"\u001b[0m\u001b[1;33m\u001b[0m\u001b[1;33m\u001b[0m\u001b[0m\n\u001b[0m\u001b[0;32m     99\u001b[0m         \u001b[0msession\u001b[0m \u001b[1;33m=\u001b[0m \u001b[1;32mNone\u001b[0m\u001b[1;33m\u001b[0m\u001b[1;33m\u001b[0m\u001b[0m\n\u001b[0;32m    100\u001b[0m         \u001b[0mresponse\u001b[0m \u001b[1;33m=\u001b[0m \u001b[1;32mNone\u001b[0m\u001b[1;33m\u001b[0m\u001b[1;33m\u001b[0m\u001b[0m\n",
      "\u001b[1;31mAssertionError\u001b[0m: Driver not initialized!"
     ]
    }
   ],
   "source": [
    "#Upload ontology to Neo4j for graphing \n",
    "class Neo4j_connection: #neo4jconnection #used to be COnnect2Neo4j\n",
    "\n",
    "    def __init__(self, uri, user, pwd, database_name=\"neo4j\"): #connect to the server; create constraint if not exist; default database is \"Neo4j\"\n",
    "        self.__uri = uri\n",
    "        self.__user = user\n",
    "        self.__pwd = pwd\n",
    "        self.__driver = None\n",
    "        self.__database_name = database_name\n",
    "\n",
    "        try:\n",
    "            self.__driver = GraphDatabase.driver(self.__uri, auth=(self.__user, self.__pwd))\n",
    "        except Exception as e:\n",
    "            print(\"Failed to create driver:\", e)\n",
    "\n",
    "        # check if the neccessary config already existed. if not, create.\n",
    "        query_string = '''\n",
    "        CALL db.constraints()\n",
    "                 '''\n",
    "        a = self.query(query_string, db= self.__database_name)\n",
    "        constr = str(a)\n",
    "        try:\n",
    "            b = constr[constr.find(\"description='\")+13:constr.find(' ON')]\n",
    "        except Exception as e:\n",
    "            pass\n",
    "        if b == 'CONSTRAINT':\n",
    "            print(\"Constraint already existed\")\n",
    "        else:\n",
    "            try:\n",
    "                query_string = '''\n",
    "                    CREATE CONSTRAINT n10s_unique_uri FOR (r:Resource) REQUIRE r.uri IS UNIQUE  \n",
    "                            '''\n",
    "                self.query(query_string, db = self.__database_name)\n",
    "            except Exception as e:\n",
    "                print(\"Failed to create constraint - check again\", e)\n",
    "\n",
    "        # check if the neccessary config already existed. if not, create.\n",
    "        query_string = '''\n",
    "        match(n) return count(n)\n",
    "        '''\n",
    "        a = self.query(query_string, db= self.__database_name)\n",
    "        strin = str(a[0])\n",
    "        config_check = int(strin[strin.find(\"=\")+1:strin.find(\">\")])\n",
    "        if config_check != 0:\n",
    "            print(\"Config already existed\")\n",
    "        else:\n",
    "            try: #setting up neccessary config for neosemantics\n",
    "                query_string = '''\n",
    "                    CALL n10s.graphconfig.init()\n",
    "                                '''\n",
    "                self.query(query_string, db= self.__database_name)\n",
    "\n",
    "            except Exception as e:\n",
    "                print(\"Failed to initiate graphconfig: \", e)\n",
    "\n",
    "\n",
    "    def uploading_orx(self, address, db=\"neo4j\"): #uploading OWL, RDF, and XML #i am trying to\n",
    "        query_string = (\n",
    "                \"call n10s.rdf.import.fetch('\"+address+\"','RDF/XML',\"+\"{\"+\"verifyUriSyntax: false\"+\"}\"+\")\")\n",
    "        assert self.__driver is not None, \"Driver not initialized!\"\n",
    "        session = None\n",
    "        response = None\n",
    "        try:\n",
    "            session = self.__driver.session(database=db) if db is not None else self.__driver.session()\n",
    "            response = list(session.run(query_string))\n",
    "            print(\"Sucessfully uploaded XML/RDF/OWL file \")\n",
    "        except Exception as e:\n",
    "            print(\"Upload failed:\", e)\n",
    "        finally:\n",
    "            if session is not None:\n",
    "                session.close()\n",
    "        return response\n",
    "\n",
    "\n",
    "    def uploading_ttl(self, address, db=None): #uploading Turtle files\n",
    "        query_string = (\n",
    "                \"call n10s.rdf.import.fetch(\" + f'{address}'+  ',\"Turtle\",{verifyUriSyntax: false})')\n",
    "        assert self.__driver is not None, \"Driver not initialized!\"\n",
    "        session = None\n",
    "        response = None\n",
    "        try:\n",
    "            session = self.__driver.session(database=db) if db is not None else self.__driver.session()\n",
    "            response = list(session.run(query_string))\n",
    "            print(\"Sucessfully uploaded TTL file \")\n",
    "        except Exception as e:\n",
    "            print(\"Query failed:\", e)\n",
    "        finally:\n",
    "            if session is not None:\n",
    "                session.close()\n",
    "        return response\n",
    "\n",
    "\n",
    "    def close(self):\n",
    "        if self.__driver is not None:\n",
    "            self.__driver.close()\n",
    "\n",
    "    def query(self, query, db=None): #query commands of choice.\n",
    "        assert self.__driver is not None, \"Driver not initialized!\"\n",
    "        session = None\n",
    "        response = None\n",
    "        try:\n",
    "            session = self.__driver.session(database=db) if db is not None else self.__driver.session()\n",
    "            response = list(session.run(query))\n",
    "        except Exception as e:\n",
    "            print(\"Query failed:\", e)\n",
    "        finally:\n",
    "            if session is not None:\n",
    "                session.close()\n",
    "        return response\n",
    "\n",
    "a = Neo4j_connection(\"bolt://localhost:7687\", \"mason\", \"password\") #(\"bolt://localhost:7687\", \"neo4j\", \"1234567\")\n",
    "a.uploading_orx(\"file:///Users/ABHISHEK MATHUR/ontology_mason.rdf\", \"mason\")\n",
    "#(\"file:///Users/jhealynsamson/AP1/ontology_template.rdf\",\"neo4j\")"
   ]
  },
  {
   "cell_type": "code",
   "execution_count": null,
   "id": "fa9bb92a",
   "metadata": {},
   "outputs": [],
   "source": []
  }
 ],
 "metadata": {
  "kernelspec": {
   "display_name": "ap2",
   "language": "python",
   "name": "python3"
  },
  "language_info": {
   "codemirror_mode": {
    "name": "ipython",
    "version": 3
   },
   "file_extension": ".py",
   "mimetype": "text/x-python",
   "name": "python",
   "nbconvert_exporter": "python",
   "pygments_lexer": "ipython3",
   "version": "3.8.15"
  },
  "vscode": {
   "interpreter": {
    "hash": "230cfac84ec3a52c1eeb21fb0465ce1e4d062ac31fda4e3acb747bf6ed9e0dff"
   }
  }
 },
 "nbformat": 4,
 "nbformat_minor": 5
}
